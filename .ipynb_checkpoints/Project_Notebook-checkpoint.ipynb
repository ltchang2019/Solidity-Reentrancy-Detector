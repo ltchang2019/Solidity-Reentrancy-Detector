{
 "cells": [
  {
   "cell_type": "markdown",
   "metadata": {},
   "source": [
    "# Preprocessing"
   ]
  },
  {
   "cell_type": "code",
   "execution_count": 5,
   "metadata": {},
   "outputs": [],
   "source": [
    "import pygments.lexers\n",
    "import numpy as np\n",
    "import pandas as pd\n",
    "from gensim.models import Word2Vec\n",
    "from sklearn.manifold import TSNE\n",
    "import matplotlib.pyplot as plt\n",
    "%matplotlib inline\n",
    "\n",
    "import warnings\n",
    "warnings.simplefilter('ignore')\n",
    "\n",
    "import sys\n",
    "sys.path.append('./reentrancyContracts')\n",
    "sys.path.append('./reentrancyContractLabels')\n",
    "import reentrancyContracts\n",
    "import reentrancyContractLabels"
   ]
  },
  {
   "cell_type": "markdown",
   "metadata": {},
   "source": [
    "### Extract Global Variables"
   ]
  },
  {
   "cell_type": "code",
   "execution_count": 6,
   "metadata": {},
   "outputs": [],
   "source": [
    "# takes in full contract and pull out names of global variables (with reasonable accuracy)\n",
    "def getGlobalVariables(contract):\n",
    "    lexer = pygments.lexers.get_lexer_by_name('Solidity')\n",
    "    tokens = list(pygments.lex(contract, lexer))\n",
    "    globalVarList = []\n",
    "    openBracketsCount = 0\n",
    "    openParenthesisCount = 0\n",
    "    i = 0\n",
    "    while i < len(tokens):\n",
    "        if str(tokens[i][0]) == 'Token.Text.Whitespace' or str(tokens[i][0]) == 'Token.Comment.Single': None\n",
    "        elif(tokens[i][1] == '{'): openBracketsCount += 1\n",
    "        elif(tokens[i][1] == '}'): openBracketsCount -= 1\n",
    "        elif(tokens[i][1] == '('): openParenthesisCount += 1\n",
    "        elif(tokens[i][1] == ')'): openParenthesisCount -= 1\n",
    "        elif(str(tokens[i][0]) == 'Token.Keyword.Type' and isType(tokens[i][1]) and openBracketsCount == 1 and openParenthesisCount == 0):\n",
    "            index = 0\n",
    "            potentialGlobal = \"\"\n",
    "            include = True\n",
    "            while True:\n",
    "                if(tokens[i+index][1] == \"constant\"): \n",
    "                    include = False\n",
    "                if(tokens[i+index][1] == ';'):\n",
    "                    if include:\n",
    "                        globalVarList.append(potentialGlobal)\n",
    "                    break\n",
    "                if(tokens[i+index][0] == pygments.token.Name.Variable or tokens[i+index][0] == pygments.token.Text):\n",
    "                    potentialGlobal = tokens[i+index][1]\n",
    "                    \n",
    "                index += 1\n",
    "            i += (index-1)\n",
    "        i += 1\n",
    "        \n",
    "    return globalVarList"
   ]
  },
  {
   "cell_type": "markdown",
   "metadata": {},
   "source": [
    "### Extract Modifiers"
   ]
  },
  {
   "cell_type": "code",
   "execution_count": 7,
   "metadata": {},
   "outputs": [],
   "source": [
    "# extracts names of modifiers (function guards) for tokenization process\n",
    "def getModifiers(contract):\n",
    "    lexer = pygments.lexers.get_lexer_by_name('Solidity')\n",
    "    tokens = list(pygments.lex(contract, lexer))\n",
    "    filteredTokens = []\n",
    "    for token in tokens:\n",
    "        if str(token[0]) != 'Token.Text.Whitespace':\n",
    "            filteredTokens.append(token)\n",
    "            \n",
    "    modifierNameList = []\n",
    "    openBracketsCount = 0\n",
    "    openParenthesisCount = 0\n",
    "    i = 0\n",
    "    while i < len(filteredTokens):\n",
    "        if(str(filteredTokens[i][0]) == 'Token.Keyword.Type' and str(filteredTokens[i][1]) == 'modifier'):\n",
    "            modifierNameList.append(filteredTokens[i+1][1])\n",
    "        \n",
    "        i += 1\n",
    "        \n",
    "    return modifierNameList"
   ]
  },
  {
   "cell_type": "markdown",
   "metadata": {},
   "source": [
    "### Extract Function Source Code"
   ]
  },
  {
   "cell_type": "code",
   "execution_count": 8,
   "metadata": {},
   "outputs": [],
   "source": [
    "# given contract source code, extracts lists of basic tokens for individual functions\n",
    "def getFunctions(contract):\n",
    "    lexer = pygments.lexers.get_lexer_by_name('Solidity')\n",
    "    tokens = list(pygments.lex(contract, lexer))\n",
    "    functionList = []\n",
    "    i = 0\n",
    "    while i < len(tokens):\n",
    "        if str(tokens[i][0]) == \"Token.Keyword.Type\" and tokens[i][1] == 'function':\n",
    "            currFunctionNum = len(functionList)\n",
    "            functionList.append([tokens[i]])\n",
    "            i += 1\n",
    "            \n",
    "            oneLiner = False\n",
    "            while tokens[i][1] != '{':\n",
    "                # the one-liner case\n",
    "                if str(tokens[i][1]) == ';':\n",
    "                    i += 1\n",
    "                    oneLiner = True\n",
    "                    break\n",
    "                if str(tokens[i][0]) != 'Token.Text.Whitespace' and str(tokens[i][0]) != 'Token.Comment.Single':\n",
    "                    functionList[currFunctionNum].append(tokens[i])\n",
    "                i += 1\n",
    "                \n",
    "            functionList[currFunctionNum].append(tokens[i])\n",
    "            openBracketsCount = 1\n",
    "            i += 1\n",
    "            \n",
    "            while openBracketsCount > 0:\n",
    "                if(tokens[i][1] == '{'): openBracketsCount += 1\n",
    "                elif(tokens[i][1] == '}'): openBracketsCount -= 1\n",
    "                \n",
    "                if str(tokens[i][0]) != 'Token.Text.Whitespace' and str(tokens[i][0]) != 'Token.Comment.Single':\n",
    "                    functionList[currFunctionNum].append(tokens[i])\n",
    "                i += 1\n",
    "        else:\n",
    "            i += 1\n",
    "    return functionList"
   ]
  },
  {
   "cell_type": "markdown",
   "metadata": {},
   "source": [
    "### Tokenize Functions"
   ]
  },
  {
   "cell_type": "code",
   "execution_count": 9,
   "metadata": {},
   "outputs": [],
   "source": [
    "# given a function's basic tokenization and a list of modifier and global variable names, fully tokenize function\n",
    "def tokenize(parsedFunction, globalVariablesList, modifierNameList):\n",
    "    txKeywords = ['call', 'transfer', 'send']\n",
    "    tokenList = []\n",
    "    for tup in parsedFunction:\n",
    "        if tokenList and tokenList[-1] == \"function\":\n",
    "            tokenList.append(\"Token.FunctionName\")\n",
    "        elif str(tup[1]) in txKeywords:\n",
    "            tokenList.append(\"Token.TxWord\")\n",
    "#         elif 'Token.Literal' in str(tup[0]):\n",
    "#             tokenList.append(\"Token.Constant\")\n",
    "        elif tup[1] in globalVariablesList:\n",
    "            tokenList.append(\"Token.GlobalVariable\")\n",
    "        elif tup[1] in modifierNameList:\n",
    "            tokenList.append(\"Token.ModifierName\")\n",
    "        elif tup[1].startswith(\"\\\"\"):\n",
    "            tokenList.append(\"Token.String\")\n",
    "        elif str(tup[0]) == 'Token.Name.Variable' or str(tup[0]) == 'Token.Text':\n",
    "            tokenList.append(\"Token.LocalVariable\")\n",
    "        elif str(tup[0]) != 'Token.Text.Whitespace' and str(tup[0]) != 'Token.Comment.Single':\n",
    "            tokenList.append(tup[1])\n",
    "    return tokenList"
   ]
  },
  {
   "cell_type": "code",
   "execution_count": 10,
   "metadata": {},
   "outputs": [],
   "source": [
    "# checks if keyword is for variable declaration (helper for global variable parser)\n",
    "def isType(word):\n",
    "    keywords = ['address', 'bool', 'byte', 'bytes', 'int', 'string', 'uint', 'mapping']\n",
    "    for kw in keywords:\n",
    "        if kw in word:\n",
    "            return True\n",
    "    return False"
   ]
  },
  {
   "cell_type": "code",
   "execution_count": 11,
   "metadata": {},
   "outputs": [],
   "source": [
    "# processing pipeline:\n",
    "# - receives contract\n",
    "# - extracts list of global variable names\n",
    "# - extracts list of modifier names\n",
    "# - extracts list of function source code\n",
    "# - creates tokenized list of functions\n",
    "\n",
    "def tokenizeContractFunctions(contract):\n",
    "    globalVariablesList = getGlobalVariables(contract)\n",
    "    modifierNameList = getModifiers(contract)\n",
    "    functionList = getFunctions(contract)\n",
    "    \n",
    "    tokenizedFunctionList = []\n",
    "    for function in functionList:\n",
    "        tokenizedFunction = tokenize(function, globalVariablesList, modifierNameList)\n",
    "        tokenizedFunctionList.append(tokenizedFunction)\n",
    "    \n",
    "    return tokenizedFunctionList"
   ]
  },
  {
   "cell_type": "markdown",
   "metadata": {},
   "source": [
    "### Create DataFrame (currently not in use)"
   ]
  },
  {
   "cell_type": "code",
   "execution_count": 12,
   "metadata": {},
   "outputs": [],
   "source": [
    "def createTuples(tokenizedFunctions, labels):\n",
    "    tuples = []\n",
    "    for i in range(len(tokenizedFunctions)):\n",
    "        \n",
    "        tuples.append([tokenizedFunctions[i], labels[i]])\n",
    "    return tuples"
   ]
  },
  {
   "cell_type": "code",
   "execution_count": 13,
   "metadata": {},
   "outputs": [],
   "source": [
    "def createDataFrame(contracts, contractLabels):\n",
    "    df = pd.DataFrame(columns=['tokenized_function', 'label'])\n",
    "    for i in range(len(contracts)):\n",
    "        tokenizedFunctions = tokenizeContractFunctions(contracts[i])\n",
    "        tuples = createTuples(tokenizedFunctions, contractLabels[i])\n",
    "        appendable = pd.DataFrame(tuples, columns=['tokenized_function', 'label'])\n",
    "        df = df.append(appendable, ignore_index=True)\n",
    "    \n",
    "    return df"
   ]
  },
  {
   "cell_type": "markdown",
   "metadata": {},
   "source": [
    "### Create Matching Lists of Functions and Corresponding Labels"
   ]
  },
  {
   "cell_type": "code",
   "execution_count": 14,
   "metadata": {},
   "outputs": [],
   "source": [
    "def returnData(contracts, contractLabels):\n",
    "    functions = []\n",
    "    labels = []\n",
    "    for i in range(len(contracts)):\n",
    "        tokenizedFunctions = tokenizeContractFunctions(contracts[i])\n",
    "        functions.extend(tokenizedFunctions)\n",
    "        labels.extend(contractLabels[i])\n",
    "    \n",
    "    return [functions, labels]"
   ]
  },
  {
   "cell_type": "markdown",
   "metadata": {},
   "source": [
    "### Create Embeddings for Tokens"
   ]
  },
  {
   "cell_type": "code",
   "execution_count": 15,
   "metadata": {},
   "outputs": [],
   "source": [
    "# creates Word2Vec mapping from token to vector\n",
    "def get_w2v_mapping(tokenizedFunctionsDf, token_dim):\n",
    "    w2v = Word2Vec(tokenizedFunctionsDf, min_count=1, size=token_dim, workers=3, window=3, sg=1)\n",
    "    return w2v"
   ]
  },
  {
   "cell_type": "code",
   "execution_count": 16,
   "metadata": {},
   "outputs": [],
   "source": [
    "# given list of tokenized functions, convert into list of list of embeddings\n",
    "def vectorize_functions(tokenized_functions, w2v_mapping):\n",
    "    embedding_list = []\n",
    "    for i in range(len(tokenized_functions)):\n",
    "        embedding = []\n",
    "        for token in tokenized_functions[i]:\n",
    "            embedding.append(w2v_mapping[token])\n",
    "        \n",
    "        embedding_list.append(embedding)\n",
    "    return embedding_list"
   ]
  },
  {
   "cell_type": "code",
   "execution_count": 17,
   "metadata": {},
   "outputs": [],
   "source": [
    "# given list of embeddings, add padding\n",
    "def pad_embeddings(embeddings, max_length, token_dim):\n",
    "    padded_embeddings = []\n",
    "    for embedding in embeddings:\n",
    "        zero_padding_cnt = max_length - len(embedding)\n",
    "        pad = np.zeros((1, token_dim))\n",
    "        for i in range(zero_padding_cnt):\n",
    "            embedding = np.concatenate((embedding, pad), axis=0)\n",
    "        padded_embeddings.append(embedding)\n",
    "    return padded_embeddings"
   ]
  },
  {
   "cell_type": "code",
   "execution_count": 18,
   "metadata": {},
   "outputs": [],
   "source": [
    "# compiles Word2Vec mapping, creates embedded function representations, and applies padding\n",
    "def getFunctionEmbeddings(tokenizedFunctions, max_length, token_dim):\n",
    "    w2v_mapping = get_w2v_mapping(tokenizedFunctions, token_dim)\n",
    "    vectorized_fns = vectorize_functions(tokenizedFunctions, w2v_mapping)\n",
    "    padded_embeddings = pad_embeddings(vectorized_fns, max_length, token_dim)\n",
    "    return [w2v_mapping, padded_embeddings]"
   ]
  },
  {
   "cell_type": "code",
   "execution_count": 19,
   "metadata": {},
   "outputs": [
    {
     "name": "stdout",
     "output_type": "stream",
     "text": [
      "X shape:  (227, 500, 15)\n"
     ]
    }
   ],
   "source": [
    "length = 500\n",
    "token_dim = 15\n",
    "\n",
    "[functions, labels] = returnData(reentrancyContracts.contracts, reentrancyContractLabels.labels)\n",
    "[w2v_mapping, fn_embeddings] = getFunctionEmbeddings(functions, length, token_dim)\n",
    "fn_embeddings = np.array(fn_embeddings)\n",
    "print(\"X shape: \", fn_embeddings.shape)"
   ]
  },
  {
   "cell_type": "markdown",
   "metadata": {},
   "source": [
    "### Token Visualization"
   ]
  },
  {
   "cell_type": "code",
   "execution_count": 20,
   "metadata": {},
   "outputs": [],
   "source": [
    "import pandas as pd\n",
    "pd.options.mode.chained_assignment = None \n",
    "import numpy as np\n",
    "import re\n",
    "import nltk\n",
    "\n",
    "from gensim.models import word2vec\n",
    "\n",
    "from sklearn.manifold import TSNE\n",
    "import matplotlib.pyplot as plt\n",
    "%matplotlib inline"
   ]
  },
  {
   "cell_type": "code",
   "execution_count": 21,
   "metadata": {},
   "outputs": [],
   "source": [
    "def tsne_plot(model):\n",
    "    \"Creates and TSNE model and plots it\"\n",
    "    labels = []\n",
    "    tokens = []\n",
    "\n",
    "    for word in model.wv.vocab:\n",
    "        tokens.append(model[word])\n",
    "        labels.append(word)\n",
    "    \n",
    "    tsne_model = TSNE(perplexity=40, n_components=2, init='pca', n_iter=2500, random_state=23)\n",
    "    new_values = tsne_model.fit_transform(tokens)\n",
    "\n",
    "    x = []\n",
    "    y = []\n",
    "    for value in new_values:\n",
    "        x.append(value[0])\n",
    "        y.append(value[1])\n",
    "        \n",
    "    plt.figure(figsize=(16, 16)) \n",
    "    for i in range(len(x)):\n",
    "        plt.scatter(x[i],y[i])\n",
    "        plt.annotate(labels[i],\n",
    "                     xy=(x[i], y[i]),\n",
    "                     xytext=(5, 2),\n",
    "                     textcoords='offset points',\n",
    "                     ha='right',\n",
    "                     va='bottom')\n",
    "    plt.show()"
   ]
  },
  {
   "cell_type": "code",
   "execution_count": 22,
   "metadata": {},
   "outputs": [
    {
     "data": {
      "image/png": "[encoded data removed]",
      "text/plain": [
       "<Figure size 1152x1152 with 1 Axes>"
      ]
     },
     "metadata": {
      "needs_background": "light"
     },
     "output_type": "display_data"
    }
   ],
   "source": [
    "[functions, labels] = returnData(reentrancyContracts.contracts, reentrancyContractLabels.labels)\n",
    "[w2v_mapping, fn_embeddings] = getFunctionEmbeddings(functions, length, token_dim)\n",
    "\n",
    "tsne_plot(w2v_mapping)"
   ]
  },
  {
   "cell_type": "markdown",
   "metadata": {},
   "source": [
    "# Models"
   ]
  },
  {
   "cell_type": "code",
   "execution_count": 23,
   "metadata": {},
   "outputs": [
    {
     "name": "stderr",
     "output_type": "stream",
     "text": [
      "Using TensorFlow backend.\n"
     ]
    }
   ],
   "source": [
    "import warnings\n",
    "warnings.simplefilter('ignore')\n",
    "\n",
    "import matplotlib.pyplot as plt\n",
    "from scipy.special import softmax\n",
    "from sklearn.model_selection import train_test_split\n",
    "from sklearn.utils import shuffle, class_weight\n",
    "from sklearn.metrics import classification_report, roc_curve, auc, roc_auc_score, accuracy_score, f1_score, recall_score, precision_score\n",
    "\n",
    "import tensorflow as tf\n",
    "import keras.backend as K\n",
    "from keras import layers, regularizers, Input\n",
    "from keras.utils import to_categorical\n",
    "from keras.models import Sequential\n",
    "from keras.layers import Dense, Bidirectional, LSTM, Flatten, Embedding, Dropout, BatchNormalization\n",
    "from keras.metrics import Accuracy, Precision, Recall"
   ]
  },
  {
   "cell_type": "code",
   "execution_count": 24,
   "metadata": {},
   "outputs": [],
   "source": [
    "# compile formatted data and create splits\n",
    "[functions, labels] = returnData(reentrancyContracts.contracts, reentrancyContractLabels.labels)\n",
    "[w2v_mapping, X_train] = getFunctionEmbeddings(functions, 500, 15)\n",
    "\n",
    "X = np.array(X_train)\n",
    "y = np.array(labels)\n",
    "X_train, y_train = shuffle(X[42:], y[42:])\n",
    "X_test = X[:42]\n",
    "y_test = y[:42]"
   ]
  },
  {
   "cell_type": "code",
   "execution_count": 25,
   "metadata": {},
   "outputs": [
    {
     "name": "stdout",
     "output_type": "stream",
     "text": [
      "(185, 500, 15)\n",
      "(185,)\n"
     ]
    }
   ],
   "source": [
    "print(X_train.shape)\n",
    "print(y_train.shape)"
   ]
  },
  {
   "cell_type": "code",
   "execution_count": 26,
   "metadata": {},
   "outputs": [
    {
     "name": "stdout",
     "output_type": "stream",
     "text": [
      "(42, 500, 15)\n",
      "(42,)\n"
     ]
    }
   ],
   "source": [
    "print(X_test.shape)\n",
    "print(y_test.shape)"
   ]
  },
  {
   "cell_type": "code",
   "execution_count": 27,
   "metadata": {},
   "outputs": [],
   "source": [
    "def printResults(model, threshold):\n",
    "    y_pred = model.predict(X_test)\n",
    "    y_pred_eval = np.argmax(y_pred, axis=1)\n",
    "    for i in range(len(y_pred)):\n",
    "        val = 0\n",
    "        if y_pred[i] > threshold: val = 1\n",
    "\n",
    "        toPrint = \"WRONG\"\n",
    "        if val == y_test[i]: toPrint = \"correct\"\n",
    "        print(i, toPrint, \": \", val, \" - \", y_pred[i][y_pred_eval[i]])"
   ]
  },
  {
   "cell_type": "markdown",
   "metadata": {},
   "source": [
    "## BLSTM"
   ]
  },
  {
   "cell_type": "code",
   "execution_count": 178,
   "metadata": {},
   "outputs": [
    {
     "name": "stdout",
     "output_type": "stream",
     "text": [
      "Training...\n"
     ]
    }
   ],
   "source": [
    "blstm = Sequential()\n",
    "blstm.add(Bidirectional(LSTM(50)))\n",
    "blstm.add(Dense(10, activation='relu'))\n",
    "blstm.add(Dense(1, activation='sigmoid'))\n",
    "\n",
    "weights = class_weight.compute_class_weight('balanced', np.unique(y_test), y_train)\n",
    "\n",
    "blstm.compile(\n",
    "    loss='binary_crossentropy',\n",
    "    optimizer='adam',\n",
    "    metrics=['accuracy']\n",
    ")\n",
    "\n",
    "print(\"Training...\")\n",
    "history = blstm.fit(X_train, y_train, validation_data=(X_test, y_test), epochs=30, verbose=0)"
   ]
  },
  {
   "cell_type": "code",
   "execution_count": 179,
   "metadata": {},
   "outputs": [
    {
     "name": "stdout",
     "output_type": "stream",
     "text": [
      "Evaluate on train data\n",
      "185/185 [==============================] - 0s 1ms/step\n",
      "train loss, train acc: [0.33529613485207427, 0.816216230392456]\n"
     ]
    }
   ],
   "source": [
    "print(\"Evaluate on train data\")\n",
    "results = blstm.evaluate(X_train, y_train)\n",
    "print(\"train loss, train acc:\", results)"
   ]
  },
  {
   "cell_type": "code",
   "execution_count": 180,
   "metadata": {},
   "outputs": [
    {
     "name": "stdout",
     "output_type": "stream",
     "text": [
      "Evaluate on test data\n",
      "42/42 [==============================] - 0s 1ms/step\n",
      "test loss, test acc: [0.26138320565223694, 0.9047619104385376]\n"
     ]
    }
   ],
   "source": [
    "print(\"Evaluate on test data\")\n",
    "results = blstm.evaluate(X_test, y_test, batch_size=128)\n",
    "print(\"test loss, test acc:\", results)"
   ]
  },
  {
   "cell_type": "code",
   "execution_count": 181,
   "metadata": {},
   "outputs": [],
   "source": [
    "y_pred = blstm.predict(X_test)\n",
    "fpr, tpr, thresholds = roc_curve(y_test, y_pred, pos_label=1)"
   ]
  },
  {
   "cell_type": "code",
   "execution_count": 182,
   "metadata": {},
   "outputs": [
    {
     "data": {
      "image/png": "[encoded data removed]",
      "text/plain": [
       "<Figure size 360x360 with 1 Axes>"
      ]
     },
     "metadata": {
      "needs_background": "light"
     },
     "output_type": "display_data"
    }
   ],
   "source": [
    "auc = roc_auc_score(y_test, y_pred)\n",
    "plt.figure(figsize=(5,5))\n",
    "plt.plot([0, 1], [0, 1], '--')\n",
    "plt.plot(fpr, tpr, color='darkorange', label='ROC curve (area = %0.3f)' % auc)\n",
    "plt.xlabel('False positive rate')\n",
    "plt.ylabel('True positive rate')\n",
    "plt.title('ROC curve')\n",
    "plt.legend(loc='best')\n",
    "plt.show()"
   ]
  },
  {
   "cell_type": "code",
   "execution_count": 183,
   "metadata": {},
   "outputs": [
    {
     "data": {
      "image/png": "[encoded data removed]",
      "text/plain": [
       "<Figure size 432x288 with 1 Axes>"
      ]
     },
     "metadata": {
      "needs_background": "light"
     },
     "output_type": "display_data"
    }
   ],
   "source": [
    "plt.plot(history.history['loss'])\n",
    "plt.plot(history.history['val_loss'])\n",
    "plt.title('model loss')\n",
    "plt.ylabel('loss')\n",
    "plt.xlabel('epoch')\n",
    "plt.legend(['train', 'test'], loc='upper left')\n",
    "plt.show()"
   ]
  },
  {
   "cell_type": "code",
   "execution_count": 184,
   "metadata": {},
   "outputs": [
    {
     "name": "stdout",
     "output_type": "stream",
     "text": [
      "              precision    recall  f1-score   support\n",
      "\n",
      "           0       0.97      0.85      0.90        33\n",
      "           1       0.62      0.89      0.73         9\n",
      "\n",
      "    accuracy                           0.86        42\n",
      "   macro avg       0.79      0.87      0.82        42\n",
      "weighted avg       0.89      0.86      0.87        42\n",
      "\n",
      "F1 Score:  0.7272727272727274\n",
      "Recall Score:  0.8888888888888888\n",
      "Precision Score:  0.6153846153846154\n",
      "Accuracy Score:  0.8571428571428571\n"
     ]
    }
   ],
   "source": [
    "outputs = [1 if n >= 0.4 else 0 for n in y_pred]\n",
    "print(classification_report(y_test, outputs))\n",
    "print(\"F1 Score: \", f1_score(y_test, outputs, zero_division=1))\n",
    "print(\"Recall Score: \", recall_score(y_test, outputs, zero_division=1))\n",
    "print(\"Precision Score: \", precision_score(y_test, outputs, zero_division=1))\n",
    "print(\"Accuracy Score: \", accuracy_score(y_test, outputs))"
   ]
  },
  {
   "cell_type": "code",
   "execution_count": 203,
   "metadata": {},
   "outputs": [],
   "source": [
    "# printResults(blstm, 0.5)"
   ]
  },
  {
   "cell_type": "markdown",
   "metadata": {},
   "source": [
    "## CNN (baseline)"
   ]
  },
  {
   "cell_type": "code",
   "execution_count": 327,
   "metadata": {
    "scrolled": true
   },
   "outputs": [
    {
     "name": "stdout",
     "output_type": "stream",
     "text": [
      "Training...\n"
     ]
    }
   ],
   "source": [
    "vocab_size = len(w2v_mapping.wv.vocab)\n",
    "embedding_dim = 15\n",
    "embeddings_per_example = 500\n",
    "\n",
    "metrics = [\n",
    "    Precision(name='precision'),\n",
    "    Recall(name='recall')\n",
    "]\n",
    "\n",
    "weights = class_weight.compute_class_weight('balanced', np.unique(y_test), y_train)\n",
    "\n",
    "cnn_1 = Sequential()\n",
    "cnn_1.add(layers.Conv1D(128, 15, activation='relu'))\n",
    "cnn_1.add(layers.GlobalMaxPooling1D())\n",
    "cnn_1.add(layers.Dense(10, activation='relu'))\n",
    "cnn_1.add(layers.Dense(1, activation='sigmoid'))\n",
    "\n",
    "cnn_1.compile(optimizer='adam',\n",
    "                loss='binary_crossentropy',\n",
    "                metrics=['accuracy'],\n",
    "                class_weights=weights)\n",
    "\n",
    "print(\"Training...\")\n",
    "history = cnn_1.fit(X_train, y_train, validation_data=(X_test, y_test), batch_size=30, epochs=250, verbose=0)"
   ]
  },
  {
   "cell_type": "code",
   "execution_count": 328,
   "metadata": {},
   "outputs": [
    {
     "name": "stdout",
     "output_type": "stream",
     "text": [
      "Evaluate on train data\n",
      "185/185 [==============================] - 0s 314us/step\n",
      "train loss, train acc: [0.0005074772990082164, 1.0]\n"
     ]
    }
   ],
   "source": [
    "print(\"Evaluate on train data\")\n",
    "results = cnn_1.evaluate(X_train, y_train)\n",
    "print(\"train loss, train acc:\", results)"
   ]
  },
  {
   "cell_type": "code",
   "execution_count": 329,
   "metadata": {},
   "outputs": [
    {
     "name": "stdout",
     "output_type": "stream",
     "text": [
      "Evaluate on test data\n",
      "42/42 [==============================] - 0s 240us/step\n",
      "test loss, test acc: [0.27247193455696106, 0.9047619104385376]\n"
     ]
    }
   ],
   "source": [
    "print(\"Evaluate on test data\")\n",
    "results = cnn_1.evaluate(X_test, y_test, batch_size=128)\n",
    "print(\"test loss, test acc:\", results)"
   ]
  },
  {
   "cell_type": "code",
   "execution_count": 330,
   "metadata": {},
   "outputs": [],
   "source": [
    "y_pred = cnn_1.predict(X_test)\n",
    "y_pred = (y_pred > 0.4)\n",
    "fpr, tpr, thresholds = roc_curve(y_test, y_pred, pos_label=1)"
   ]
  },
  {
   "cell_type": "code",
   "execution_count": 331,
   "metadata": {},
   "outputs": [
    {
     "data": {
      "image/png": "[encoded data removed]",
      "text/plain": [
       "<Figure size 360x360 with 1 Axes>"
      ]
     },
     "metadata": {
      "needs_background": "light"
     },
     "output_type": "display_data"
    }
   ],
   "source": [
    "auc = roc_auc_score(y_test, y_pred)\n",
    "plt.figure(figsize=(5,5))\n",
    "plt.plot([0, 1], [0, 1], '--')\n",
    "plt.plot(fpr, tpr, color='darkorange', label='ROC curve (area = %0.3f)' % auc)\n",
    "plt.xlabel('False positive rate')\n",
    "plt.ylabel('True positive rate')\n",
    "plt.title('ROC curve')\n",
    "plt.legend(loc='best')\n",
    "plt.show()"
   ]
  },
  {
   "cell_type": "code",
   "execution_count": 332,
   "metadata": {},
   "outputs": [
    {
     "data": {
      "image/png": "[encoded data removed]",
      "text/plain": [
       "<Figure size 432x288 with 1 Axes>"
      ]
     },
     "metadata": {
      "needs_background": "light"
     },
     "output_type": "display_data"
    }
   ],
   "source": [
    "plt.plot(history.history['loss'])\n",
    "plt.plot(history.history['val_loss'])\n",
    "plt.title('Loss (Baseline CNN)')\n",
    "plt.ylabel('loss')\n",
    "plt.xlabel('epoch')\n",
    "plt.legend(['train', 'test'], loc='upper left')\n",
    "plt.show()"
   ]
  },
  {
   "cell_type": "code",
   "execution_count": 333,
   "metadata": {},
   "outputs": [
    {
     "name": "stdout",
     "output_type": "stream",
     "text": [
      "              precision    recall  f1-score   support\n",
      "\n",
      "           0       0.94      0.94      0.94        33\n",
      "           1       0.78      0.78      0.78         9\n",
      "\n",
      "    accuracy                           0.90        42\n",
      "   macro avg       0.86      0.86      0.86        42\n",
      "weighted avg       0.90      0.90      0.90        42\n",
      "\n",
      "F1 Score:  0.7777777777777778\n",
      "Recall Score:  0.7777777777777778\n",
      "Precision Score:  0.7777777777777778\n",
      "Accuracy Score:  0.9047619047619048\n"
     ]
    }
   ],
   "source": [
    "outputs = [1 if n >= 0.4 else 0 for n in y_pred]\n",
    "print(classification_report(y_test, outputs))\n",
    "print(\"F1 Score: \", f1_score(y_test, outputs, zero_division=1))\n",
    "print(\"Recall Score: \", recall_score(y_test, outputs, zero_division=1))\n",
    "print(\"Precision Score: \", precision_score(y_test, outputs, zero_division=1))\n",
    "print(\"Accuracy Score: \", accuracy_score(y_test, outputs))"
   ]
  },
  {
   "cell_type": "code",
   "execution_count": 212,
   "metadata": {},
   "outputs": [],
   "source": [
    "# printResults(cnn_1, 0.4)"
   ]
  },
  {
   "cell_type": "markdown",
   "metadata": {},
   "source": [
    "## CNN (with dropout)"
   ]
  },
  {
   "cell_type": "code",
   "execution_count": 319,
   "metadata": {
    "scrolled": true
   },
   "outputs": [
    {
     "name": "stdout",
     "output_type": "stream",
     "text": [
      "Training...\n"
     ]
    }
   ],
   "source": [
    "vocab_size = len(w2v_mapping.wv.vocab)\n",
    "embedding_dim = 15\n",
    "embeddings_per_example = 500\n",
    "\n",
    "metrics = [\n",
    "    Precision(name='precision'),\n",
    "    Recall(name='recall')\n",
    "]\n",
    "\n",
    "weights = class_weight.compute_class_weight('balanced', np.unique(y_test), y_train)\n",
    "\n",
    "cnn_drop = Sequential()\n",
    "cnn_drop.add(layers.Conv1D(128, 15, activation='relu'))\n",
    "cnn_drop.add(Dropout(0.6))\n",
    "cnn_drop.add(layers.GlobalMaxPooling1D())\n",
    "cnn_drop.add(layers.Dense(10, activation='relu'))\n",
    "cnn_drop.add(Dropout(0.6))\n",
    "cnn_drop.add(layers.Dense(1, activation='sigmoid'))\n",
    "\n",
    "cnn_drop.compile(optimizer='adam',\n",
    "                loss='binary_crossentropy',\n",
    "                metrics=['accuracy'],\n",
    "                class_weights=weights)\n",
    "\n",
    "print(\"Training...\")\n",
    "history = cnn_drop.fit(X_train, y_train, validation_data=(X_test, y_test), batch_size=30, epochs=250, verbose=0)"
   ]
  },
  {
   "cell_type": "code",
   "execution_count": 320,
   "metadata": {},
   "outputs": [
    {
     "name": "stdout",
     "output_type": "stream",
     "text": [
      "Evaluate on train data\n",
      "185/185 [==============================] - 0s 216us/step\n",
      "train loss, train acc: [0.15777765762161564, 1.0]\n"
     ]
    }
   ],
   "source": [
    "print(\"Evaluate on train data\")\n",
    "results = cnn_drop.evaluate(X_train, y_train)\n",
    "print(\"train loss, train acc:\", results)"
   ]
  },
  {
   "cell_type": "code",
   "execution_count": 321,
   "metadata": {},
   "outputs": [
    {
     "name": "stdout",
     "output_type": "stream",
     "text": [
      "Evaluate on test data\n",
      "42/42 [==============================] - 0s 158us/step\n",
      "test loss, test acc: [0.23538878560066223, 0.9523809552192688]\n"
     ]
    }
   ],
   "source": [
    "print(\"Evaluate on test data\")\n",
    "results = cnn_drop.evaluate(X_test, y_test, batch_size=128)\n",
    "print(\"test loss, test acc:\", results)"
   ]
  },
  {
   "cell_type": "code",
   "execution_count": 322,
   "metadata": {},
   "outputs": [],
   "source": [
    "y_pred = cnn_drop.predict(X_test)\n",
    "y_pred = (y_pred > 0.4)\n",
    "fpr, tpr, thresholds = roc_curve(y_test, y_pred, pos_label=1)"
   ]
  },
  {
   "cell_type": "code",
   "execution_count": 323,
   "metadata": {},
   "outputs": [
    {
     "data": {
      "image/png": "[encoded data removed]",
      "text/plain": [
       "<Figure size 360x360 with 1 Axes>"
      ]
     },
     "metadata": {
      "needs_background": "light"
     },
     "output_type": "display_data"
    }
   ],
   "source": [
    "auc = roc_auc_score(y_test, y_pred)\n",
    "plt.figure(figsize=(5,5))\n",
    "plt.plot([0, 1], [0, 1], '--')\n",
    "plt.plot(fpr, tpr, color='darkorange', label='ROC curve (area = %0.3f)' % auc)\n",
    "plt.xlabel('False positive rate')\n",
    "plt.ylabel('True positive rate')\n",
    "plt.title('ROC curve')\n",
    "plt.legend(loc='best')\n",
    "plt.show()"
   ]
  },
  {
   "cell_type": "code",
   "execution_count": 324,
   "metadata": {},
   "outputs": [
    {
     "data": {
      "image/png": "[encoded data removed]",
      "text/plain": [
       "<Figure size 432x288 with 1 Axes>"
      ]
     },
     "metadata": {
      "needs_background": "light"
     },
     "output_type": "display_data"
    }
   ],
   "source": [
    "plt.plot(history.history['loss'])\n",
    "plt.plot(history.history['val_loss'])\n",
    "plt.title('Loss (CNN with Dropout)')\n",
    "plt.ylabel('loss')\n",
    "plt.xlabel('epoch')\n",
    "plt.legend(['train', 'test'], loc='upper left')\n",
    "plt.show()"
   ]
  },
  {
   "cell_type": "code",
   "execution_count": 325,
   "metadata": {},
   "outputs": [
    {
     "name": "stdout",
     "output_type": "stream",
     "text": [
      "              precision    recall  f1-score   support\n",
      "\n",
      "           0       1.00      0.94      0.97        33\n",
      "           1       0.82      1.00      0.90         9\n",
      "\n",
      "    accuracy                           0.95        42\n",
      "   macro avg       0.91      0.97      0.93        42\n",
      "weighted avg       0.96      0.95      0.95        42\n",
      "\n",
      "F1 Score:  0.9\n",
      "Recall Score:  1.0\n",
      "Precision Score:  0.8181818181818182\n",
      "Accuracy Score:  0.9523809523809523\n"
     ]
    }
   ],
   "source": [
    "outputs = [1 if n >= 0.4 else 0 for n in y_pred]\n",
    "print(classification_report(y_test, outputs))\n",
    "print(\"F1 Score: \", f1_score(y_test, outputs, zero_division=1))\n",
    "print(\"Recall Score: \", recall_score(y_test, outputs, zero_division=1))\n",
    "print(\"Precision Score: \", precision_score(y_test, outputs, zero_division=1))\n",
    "print(\"Accuracy Score: \", accuracy_score(y_test, outputs))"
   ]
  },
  {
   "cell_type": "code",
   "execution_count": 334,
   "metadata": {},
   "outputs": [],
   "source": [
    "# printResults(cnn_drop, 0.4)"
   ]
  },
  {
   "cell_type": "markdown",
   "metadata": {},
   "source": [
    "## CNN (L2 regularization)"
   ]
  },
  {
   "cell_type": "code",
   "execution_count": 55,
   "metadata": {
    "scrolled": true
   },
   "outputs": [
    {
     "name": "stdout",
     "output_type": "stream",
     "text": [
      "Training...\n"
     ]
    }
   ],
   "source": [
    "vocab_size = len(w2v_mapping.wv.vocab)\n",
    "embedding_dim = 15\n",
    "embeddings_per_example = 500\n",
    "\n",
    "metrics = [\n",
    "    Precision(name='precision'),\n",
    "    Recall(name='recall')\n",
    "]\n",
    "\n",
    "weights = class_weight.compute_class_weight('balanced', np.unique(y_test), y_train)\n",
    "\n",
    "cnn_l2 = Sequential()\n",
    "cnn_l2.add(layers.Conv1D(128, 15, activation='relu'))\n",
    "cnn_l2.add(layers.GlobalMaxPooling1D())\n",
    "cnn_l2.add(layers.Dense(10, activation='relu', activity_regularizer=regularizers.l2(0.01)))\n",
    "cnn_l2.add(layers.Dense(1, activation='sigmoid', activity_regularizer=regularizers.l2(0.01)))\n",
    "\n",
    "cnn_l2.compile(optimizer='adam',\n",
    "                loss='binary_crossentropy',\n",
    "                metrics=['accuracy'],\n",
    "                class_weights=weights)\n",
    "\n",
    "print(\"Training...\")\n",
    "history = cnn_l2.fit(X_train, y_train, validation_data=(X_test, y_test), batch_size=30, epochs=250, verbose=0)"
   ]
  },
  {
   "cell_type": "code",
   "execution_count": 56,
   "metadata": {},
   "outputs": [
    {
     "name": "stdout",
     "output_type": "stream",
     "text": [
      "Evaluate on train data\n",
      "185/185 [==============================] - 0s 148us/step\n",
      "train loss, train acc: [0.08344004242806821, 1.0]\n"
     ]
    }
   ],
   "source": [
    "print(\"Evaluate on train data\")\n",
    "results = cnn_l2.evaluate(X_train, y_train)\n",
    "print(\"train loss, train acc:\", results)"
   ]
  },
  {
   "cell_type": "code",
   "execution_count": 57,
   "metadata": {},
   "outputs": [
    {
     "name": "stdout",
     "output_type": "stream",
     "text": [
      "Evaluate on test data\n",
      "42/42 [==============================] - 0s 149us/step\n",
      "test loss, test acc: [0.32220470905303955, 0.9047619104385376]\n"
     ]
    }
   ],
   "source": [
    "print(\"Evaluate on test data\")\n",
    "results = cnn_l2.evaluate(X_test, y_test, batch_size=128)\n",
    "print(\"test loss, test acc:\", results)"
   ]
  },
  {
   "cell_type": "code",
   "execution_count": 58,
   "metadata": {},
   "outputs": [],
   "source": [
    "y_pred = cnn_l2.predict(X_test)\n",
    "fpr, tpr, thresholds = roc_curve(y_test, y_pred, pos_label=1)"
   ]
  },
  {
   "cell_type": "code",
   "execution_count": 59,
   "metadata": {},
   "outputs": [
    {
     "data": {
      "image/png": "[encoded data removed]",
      "text/plain": [
       "<Figure size 360x360 with 1 Axes>"
      ]
     },
     "metadata": {
      "needs_background": "light"
     },
     "output_type": "display_data"
    }
   ],
   "source": [
    "auc = roc_auc_score(y_test, y_pred)\n",
    "plt.figure(figsize=(5,5))\n",
    "plt.plot([0, 1], [0, 1], '--')\n",
    "plt.plot(fpr, tpr, color='darkorange', label='ROC curve (area = %0.3f)' % auc)\n",
    "plt.xlabel('False positive rate')\n",
    "plt.ylabel('True positive rate')\n",
    "plt.title('ROC curve')\n",
    "plt.legend(loc='best')\n",
    "plt.show()"
   ]
  },
  {
   "cell_type": "code",
   "execution_count": 60,
   "metadata": {},
   "outputs": [
    {
     "data": {
      "image/png": "[encoded data removed]",
      "text/plain": [
       "<Figure size 432x288 with 1 Axes>"
      ]
     },
     "metadata": {
      "needs_background": "light"
     },
     "output_type": "display_data"
    }
   ],
   "source": [
    "plt.plot(history.history['loss'])\n",
    "plt.plot(history.history['val_loss'])\n",
    "plt.title('model loss')\n",
    "plt.ylabel('loss')\n",
    "plt.xlabel('epoch')\n",
    "plt.legend(['train', 'test'], loc='upper left')\n",
    "plt.show()"
   ]
  },
  {
   "cell_type": "code",
   "execution_count": 61,
   "metadata": {},
   "outputs": [
    {
     "name": "stdout",
     "output_type": "stream",
     "text": [
      "              precision    recall  f1-score   support\n",
      "\n",
      "           0       0.91      0.94      0.93        33\n",
      "           1       0.75      0.67      0.71         9\n",
      "\n",
      "    accuracy                           0.88        42\n",
      "   macro avg       0.83      0.80      0.82        42\n",
      "weighted avg       0.88      0.88      0.88        42\n",
      "\n",
      "F1 Score:  0.7058823529411765\n",
      "Recall Score:  0.6666666666666666\n",
      "Precision Score:  0.75\n",
      "Accuracy Score:  0.8809523809523809\n"
     ]
    }
   ],
   "source": [
    "outputs = [1 if n >= 0.4 else 0 for n in y_pred]\n",
    "print(classification_report(y_test, outputs))\n",
    "print(\"F1 Score: \", f1_score(y_test, outputs, zero_division=1))\n",
    "print(\"Recall Score: \", recall_score(y_test, outputs, zero_division=1))\n",
    "print(\"Precision Score: \", precision_score(y_test, outputs, zero_division=1))\n",
    "print(\"Accuracy Score: \", accuracy_score(y_test, outputs))"
   ]
  },
  {
   "cell_type": "code",
   "execution_count": 62,
   "metadata": {},
   "outputs": [],
   "source": [
    "# printResults(cnn_l2, 0.4)"
   ]
  },
  {
   "cell_type": "markdown",
   "metadata": {},
   "source": [
    "## CNN (higher positive class weight)"
   ]
  },
  {
   "cell_type": "code",
   "execution_count": 71,
   "metadata": {
    "scrolled": true
   },
   "outputs": [
    {
     "name": "stdout",
     "output_type": "stream",
     "text": [
      "Training...\n"
     ]
    }
   ],
   "source": [
    "vocab_size = len(w2v_mapping.wv.vocab)\n",
    "embedding_dim = 15\n",
    "embeddings_per_example = 500\n",
    "\n",
    "metrics = [\n",
    "    Precision(name='precision'),\n",
    "    Recall(name='recall')\n",
    "]\n",
    "\n",
    "weights = [.65, 2.5]\n",
    "\n",
    "cnn_hweights = Sequential()\n",
    "cnn_hweights.add(layers.Conv1D(128, 15, activation='relu'))\n",
    "cnn_hweights.add(layers.GlobalMaxPooling1D())\n",
    "cnn_hweights.add(layers.Dense(1, activation='sigmoid'))\n",
    "\n",
    "cnn_hweights.compile(optimizer='adam',\n",
    "                loss='binary_crossentropy',\n",
    "                metrics=['accuracy'],\n",
    "                class_weights=weights)\n",
    "\n",
    "print(\"Training...\")\n",
    "history = cnn_hweights.fit(X_train, y_train, validation_data=(X_test, y_test), batch_size=30, epochs=300, verbose=0)"
   ]
  },
  {
   "cell_type": "code",
   "execution_count": 72,
   "metadata": {},
   "outputs": [
    {
     "data": {
      "text/plain": [
       "[0.65, 2.5]"
      ]
     },
     "execution_count": 72,
     "metadata": {},
     "output_type": "execute_result"
    }
   ],
   "source": [
    "weights"
   ]
  },
  {
   "cell_type": "code",
   "execution_count": 73,
   "metadata": {},
   "outputs": [
    {
     "name": "stdout",
     "output_type": "stream",
     "text": [
      "Evaluate on train data\n",
      "185/185 [==============================] - 0s 180us/step\n",
      "train loss, train acc: [0.0021393180717839983, 1.0]\n"
     ]
    }
   ],
   "source": [
    "print(\"Evaluate on train data\")\n",
    "results = cnn_hweights.evaluate(X_train, y_train)\n",
    "print(\"train loss, train acc:\", results)"
   ]
  },
  {
   "cell_type": "code",
   "execution_count": 74,
   "metadata": {},
   "outputs": [
    {
     "name": "stdout",
     "output_type": "stream",
     "text": [
      "Evaluate on test data\n",
      "42/42 [==============================] - 0s 148us/step\n",
      "test loss, test acc: [0.1989932507276535, 0.9047619104385376]\n"
     ]
    }
   ],
   "source": [
    "print(\"Evaluate on test data\")\n",
    "results = cnn_hweights.evaluate(X_test, y_test, batch_size=128)\n",
    "print(\"test loss, test acc:\", results)"
   ]
  },
  {
   "cell_type": "code",
   "execution_count": 75,
   "metadata": {},
   "outputs": [],
   "source": [
    "y_pred = cnn_hweights.predict(X_test)\n",
    "fpr, tpr, thresholds = roc_curve(y_test, y_pred, pos_label=1)"
   ]
  },
  {
   "cell_type": "code",
   "execution_count": 76,
   "metadata": {},
   "outputs": [
    {
     "name": "stdout",
     "output_type": "stream",
     "text": [
      "AUC: 0.966\n"
     ]
    }
   ],
   "source": [
    "auc = roc_auc_score(y_test, y_pred)\n",
    "print('AUC: %.3f' % auc)"
   ]
  },
  {
   "cell_type": "code",
   "execution_count": 77,
   "metadata": {},
   "outputs": [
    {
     "data": {
      "image/png": "[encoded data removed]",
      "text/plain": [
       "<Figure size 360x360 with 1 Axes>"
      ]
     },
     "metadata": {
      "needs_background": "light"
     },
     "output_type": "display_data"
    }
   ],
   "source": [
    "plt.figure(figsize=(5,5))\n",
    "plt.plot([0, 1], [0, 1], '--')\n",
    "plt.plot(fpr, tpr, color='darkorange', label='ROC curve (area = %0.3f)' % auc)\n",
    "plt.xlabel('False positive rate')\n",
    "plt.ylabel('True positive rate')\n",
    "plt.title('ROC curve')\n",
    "plt.legend(loc='best')\n",
    "plt.show()"
   ]
  },
  {
   "cell_type": "code",
   "execution_count": 78,
   "metadata": {},
   "outputs": [
    {
     "data": {
      "image/png": "[encoded data removed]",
      "text/plain": [
       "<Figure size 432x288 with 1 Axes>"
      ]
     },
     "metadata": {
      "needs_background": "light"
     },
     "output_type": "display_data"
    }
   ],
   "source": [
    "plt.plot(history.history['loss'])\n",
    "plt.plot(history.history['val_loss'])\n",
    "plt.title('model loss')\n",
    "plt.ylabel('loss')\n",
    "plt.xlabel('epoch')\n",
    "plt.legend(['train', 'test'], loc='upper left')\n",
    "plt.show()"
   ]
  },
  {
   "cell_type": "code",
   "execution_count": 79,
   "metadata": {},
   "outputs": [
    {
     "name": "stdout",
     "output_type": "stream",
     "text": [
      "              precision    recall  f1-score   support\n",
      "\n",
      "           0       0.91      0.97      0.94        33\n",
      "           1       0.86      0.67      0.75         9\n",
      "\n",
      "    accuracy                           0.90        42\n",
      "   macro avg       0.89      0.82      0.85        42\n",
      "weighted avg       0.90      0.90      0.90        42\n",
      "\n",
      "F1 Score:  0.75\n",
      "Recall Score:  0.6666666666666666\n",
      "Precision Score:  0.8571428571428571\n",
      "Accuracy Score:  0.9047619047619048\n"
     ]
    }
   ],
   "source": [
    "outputs = [1 if n >= 0.4 else 0 for n in y_pred]\n",
    "print(classification_report(y_test, outputs))\n",
    "print(\"F1 Score: \", f1_score(y_test, outputs, zero_division=1))\n",
    "print(\"Recall Score: \", recall_score(y_test, outputs, zero_division=1))\n",
    "print(\"Precision Score: \", precision_score(y_test, outputs, zero_division=1))\n",
    "print(\"Accuracy Score: \", accuracy_score(y_test, outputs))"
   ]
  },
  {
   "cell_type": "code",
   "execution_count": 54,
   "metadata": {},
   "outputs": [],
   "source": [
    "# printResults(cnn_hweights, 0.4)"
   ]
  },
  {
   "cell_type": "markdown",
   "metadata": {},
   "source": [
    "## Two Layer CNN (baseline)"
   ]
  },
  {
   "cell_type": "code",
   "execution_count": 63,
   "metadata": {},
   "outputs": [
    {
     "name": "stdout",
     "output_type": "stream",
     "text": [
      "Training...\n"
     ]
    }
   ],
   "source": [
    "vocab_size = len(w2v_mapping.wv.vocab)\n",
    "embedding_dim = 15\n",
    "embeddings_per_example = 500\n",
    "\n",
    "metrics = [\n",
    "    Precision(name='precision'),\n",
    "    Recall(name='recall')\n",
    "]\n",
    "\n",
    "weights = class_weight.compute_class_weight('balanced', np.unique(y_test), y_train)\n",
    "\n",
    "twolayer_cnn = Sequential()\n",
    "twolayer_cnn.add(layers.Conv1D(128, 10, activation='relu'))\n",
    "twolayer_cnn.add(layers.Conv1D(64, 10, activation='relu'))\n",
    "twolayer_cnn.add(layers.GlobalMaxPooling1D())\n",
    "twolayer_cnn.add(layers.Dense(1, activation='sigmoid'))\n",
    "\n",
    "twolayer_cnn.compile(optimizer='adam',\n",
    "                loss='binary_crossentropy',\n",
    "                metrics=['accuracy'],\n",
    "                class_weights=weights)\n",
    "\n",
    "print(\"Training...\")\n",
    "history = twolayer_cnn.fit(X_train, y_train, validation_data=(X_test, y_test), batch_size=30, epochs=150, verbose=0)"
   ]
  },
  {
   "cell_type": "code",
   "execution_count": 64,
   "metadata": {},
   "outputs": [
    {
     "name": "stdout",
     "output_type": "stream",
     "text": [
      "Evaluate on train data\n",
      "185/185 [==============================] - 0s 450us/step\n",
      "train loss, train acc: [0.0008255107932396837, 1.0]\n"
     ]
    }
   ],
   "source": [
    "print(\"Evaluate on train data\")\n",
    "results = twolayer_cnn.evaluate(X_train, y_train)\n",
    "print(\"train loss, train acc:\", results)"
   ]
  },
  {
   "cell_type": "code",
   "execution_count": 65,
   "metadata": {},
   "outputs": [
    {
     "name": "stdout",
     "output_type": "stream",
     "text": [
      "Evaluate on test data\n",
      "42/42 [==============================] - 0s 414us/step\n",
      "test loss, test acc: [0.09423068165779114, 0.976190447807312]\n"
     ]
    }
   ],
   "source": [
    "print(\"Evaluate on test data\")\n",
    "results = twolayer_cnn.evaluate(X_test, y_test, batch_size=128)\n",
    "print(\"test loss, test acc:\", results)"
   ]
  },
  {
   "cell_type": "code",
   "execution_count": 66,
   "metadata": {},
   "outputs": [],
   "source": [
    "y_pred = twolayer_cnn.predict(X_test)\n",
    "fpr, tpr, thresholds = roc_curve(y_test, y_pred, pos_label=1)"
   ]
  },
  {
   "cell_type": "code",
   "execution_count": 67,
   "metadata": {},
   "outputs": [
    {
     "data": {
      "image/png": "[encoded data removed]",
      "text/plain": [
       "<Figure size 360x360 with 1 Axes>"
      ]
     },
     "metadata": {
      "needs_background": "light"
     },
     "output_type": "display_data"
    }
   ],
   "source": [
    "auc = roc_auc_score(y_test, y_pred)\n",
    "plt.figure(figsize=(5,5))\n",
    "plt.plot([0, 1], [0, 1], '--')\n",
    "plt.plot(fpr, tpr, color='darkorange', label='ROC curve (area = %0.3f)' % auc)\n",
    "plt.xlabel('False positive rate')\n",
    "plt.ylabel('True positive rate')\n",
    "plt.title('ROC curve')\n",
    "plt.legend(loc='best')\n",
    "plt.show()"
   ]
  },
  {
   "cell_type": "code",
   "execution_count": 68,
   "metadata": {},
   "outputs": [
    {
     "data": {
      "image/png": "[encoded data removed]",
      "text/plain": [
       "<Figure size 432x288 with 1 Axes>"
      ]
     },
     "metadata": {
      "needs_background": "light"
     },
     "output_type": "display_data"
    }
   ],
   "source": [
    "plt.plot(history.history['loss'])\n",
    "plt.plot(history.history['val_loss'])\n",
    "plt.title('model loss')\n",
    "plt.ylabel('loss')\n",
    "plt.xlabel('epoch')\n",
    "plt.legend(['train', 'test'], loc='upper left')\n",
    "plt.show()"
   ]
  },
  {
   "cell_type": "code",
   "execution_count": 69,
   "metadata": {},
   "outputs": [
    {
     "name": "stdout",
     "output_type": "stream",
     "text": [
      "              precision    recall  f1-score   support\n",
      "\n",
      "           0       0.97      1.00      0.99        33\n",
      "           1       1.00      0.89      0.94         9\n",
      "\n",
      "    accuracy                           0.98        42\n",
      "   macro avg       0.99      0.94      0.96        42\n",
      "weighted avg       0.98      0.98      0.98        42\n",
      "\n",
      "F1 Score:  0.9411764705882353\n",
      "Recall Score:  0.8888888888888888\n",
      "Precision Score:  1.0\n",
      "Accuracy Score:  0.9761904761904762\n"
     ]
    }
   ],
   "source": [
    "outputs = [1 if n >= 0.4 else 0 for n in y_pred]\n",
    "print(classification_report(y_test, outputs))\n",
    "print(\"F1 Score: \", f1_score(y_test, outputs, zero_division=1))\n",
    "print(\"Recall Score: \", recall_score(y_test, outputs, zero_division=1))\n",
    "print(\"Precision Score: \", precision_score(y_test, outputs, zero_division=1))\n",
    "print(\"Accuracy Score: \", accuracy_score(y_test, outputs))"
   ]
  },
  {
   "cell_type": "code",
   "execution_count": 111,
   "metadata": {
    "scrolled": true
   },
   "outputs": [],
   "source": [
    "# printResults(twolayer_cnn, 0.4)"
   ]
  },
  {
   "cell_type": "markdown",
   "metadata": {},
   "source": [
    "## Best Performing Model: Two Layer CNN (with dropout)"
   ]
  },
  {
   "cell_type": "code",
   "execution_count": 101,
   "metadata": {},
   "outputs": [
    {
     "name": "stdout",
     "output_type": "stream",
     "text": [
      "Training...\n"
     ]
    }
   ],
   "source": [
    "vocab_size = len(w2v_mapping.wv.vocab)\n",
    "embedding_dim = 15\n",
    "embeddings_per_example = 500\n",
    "\n",
    "metrics = [\n",
    "    Precision(name='precision'),\n",
    "    Recall(name='recall')\n",
    "]\n",
    "\n",
    "weights = class_weight.compute_class_weight('balanced', np.unique(y_test), y_train)\n",
    "\n",
    "twolayer_drop_cnn = Sequential()\n",
    "twolayer_drop_cnn.add(layers.Conv1D(128, 10, activation='relu'))\n",
    "twolayer_drop_cnn.add(layers.Conv1D(64, 10, activation='relu'))\n",
    "twolayer_drop_cnn.add(Dropout(0.3))\n",
    "twolayer_drop_cnn.add(layers.GlobalMaxPooling1D())\n",
    "twolayer_drop_cnn.add(layers.Dense(1, activation='sigmoid'))\n",
    "\n",
    "twolayer_drop_cnn.compile(optimizer='adam',\n",
    "                loss='binary_crossentropy',\n",
    "                metrics=['accuracy'],\n",
    "                class_weights=weights)\n",
    "\n",
    "print(\"Training...\")\n",
    "history = twolayer_drop_cnn.fit(X_train, y_train, validation_data=(X_test, y_test), batch_size=30, epochs=150, verbose=0)"
   ]
  },
  {
   "cell_type": "code",
   "execution_count": 102,
   "metadata": {},
   "outputs": [
    {
     "name": "stdout",
     "output_type": "stream",
     "text": [
      "Evaluate on train data\n",
      "185/185 [==============================] - 0s 343us/step\n",
      "train loss, train acc: [0.0037077037944785647, 1.0]\n"
     ]
    }
   ],
   "source": [
    "print(\"Evaluate on train data\")\n",
    "results = twolayer_drop_cnn.evaluate(X_train, y_train)\n",
    "print(\"train loss, train acc:\", results)"
   ]
  },
  {
   "cell_type": "code",
   "execution_count": 103,
   "metadata": {},
   "outputs": [
    {
     "name": "stdout",
     "output_type": "stream",
     "text": [
      "Evaluate on test data\n",
      "42/42 [==============================] - 0s 414us/step\n",
      "test loss, test acc: [0.08094744384288788, 0.976190447807312]\n"
     ]
    }
   ],
   "source": [
    "print(\"Evaluate on test data\")\n",
    "results = twolayer_drop_cnn.evaluate(X_test, y_test, batch_size=128)\n",
    "print(\"test loss, test acc:\", results)"
   ]
  },
  {
   "cell_type": "code",
   "execution_count": 104,
   "metadata": {},
   "outputs": [],
   "source": [
    "y_pred = twolayer_drop_cnn.predict(X_test)\n",
    "fpr, tpr, thresholds = roc_curve(y_test, y_pred, pos_label=1)"
   ]
  },
  {
   "cell_type": "code",
   "execution_count": 105,
   "metadata": {},
   "outputs": [
    {
     "data": {
      "image/png": "[encoded data removed]",
      "text/plain": [
       "<Figure size 360x360 with 1 Axes>"
      ]
     },
     "metadata": {
      "needs_background": "light"
     },
     "output_type": "display_data"
    }
   ],
   "source": [
    "auc = roc_auc_score(y_test, y_pred)\n",
    "plt.figure(figsize=(5,5))\n",
    "plt.plot([0, 1], [0, 1], '--')\n",
    "plt.plot(fpr, tpr, color='darkorange', label='ROC curve (area = %0.3f)' % auc)\n",
    "plt.xlabel('False positive rate')\n",
    "plt.ylabel('True positive rate')\n",
    "plt.title('ROC curve')\n",
    "plt.legend(loc='best')\n",
    "plt.show()"
   ]
  },
  {
   "cell_type": "code",
   "execution_count": 106,
   "metadata": {},
   "outputs": [
    {
     "data": {
      "image/png": "[encoded data removed]",
      "text/plain": [
       "<Figure size 432x288 with 1 Axes>"
      ]
     },
     "metadata": {
      "needs_background": "light"
     },
     "output_type": "display_data"
    }
   ],
   "source": [
    "plt.plot(history.history['loss'])\n",
    "plt.plot(history.history['val_loss'])\n",
    "plt.title('model loss')\n",
    "plt.ylabel('loss')\n",
    "plt.xlabel('epoch')\n",
    "plt.legend(['train', 'test'], loc='upper left')\n",
    "plt.show()"
   ]
  },
  {
   "cell_type": "code",
   "execution_count": 107,
   "metadata": {},
   "outputs": [
    {
     "name": "stdout",
     "output_type": "stream",
     "text": [
      "              precision    recall  f1-score   support\n",
      "\n",
      "           0       1.00      0.97      0.98        33\n",
      "           1       0.90      1.00      0.95         9\n",
      "\n",
      "    accuracy                           0.98        42\n",
      "   macro avg       0.95      0.98      0.97        42\n",
      "weighted avg       0.98      0.98      0.98        42\n",
      "\n",
      "F1 Score:  0.9473684210526316\n",
      "Recall Score:  1.0\n",
      "Precision Score:  0.9\n",
      "Accuracy Score:  0.9761904761904762\n"
     ]
    }
   ],
   "source": [
    "outputs = [1 if n >= 0.4 else 0 for n in y_pred]\n",
    "print(classification_report(y_test, outputs))\n",
    "print(\"F1 Score: \", f1_score(y_test, outputs, zero_division=1))\n",
    "print(\"Recall Score: \", recall_score(y_test, outputs, zero_division=1))\n",
    "print(\"Precision Score: \", precision_score(y_test, outputs, zero_division=1))\n",
    "print(\"Accuracy Score: \", accuracy_score(y_test, outputs))"
   ]
  },
  {
   "cell_type": "code",
   "execution_count": 110,
   "metadata": {
    "scrolled": true
   },
   "outputs": [
    {
     "name": "stdout",
     "output_type": "stream",
     "text": [
      "0 correct :  0  -  0.0033856928\n",
      "1 correct :  0  -  0.009478331\n",
      "2 correct :  1  -  0.999964\n",
      "3 correct :  0  -  0.24285981\n",
      "4 correct :  1  -  0.58201456\n",
      "5 WRONG :  1  -  0.71681505\n",
      "6 correct :  0  -  2.7239323e-05\n",
      "7 correct :  0  -  0.060897082\n",
      "8 correct :  0  -  0.013172984\n",
      "9 correct :  0  -  0.027399749\n",
      "10 correct :  0  -  0.007865161\n",
      "11 correct :  0  -  0.06111729\n",
      "12 correct :  0  -  0.0107857585\n",
      "13 correct :  0  -  0.005787015\n",
      "14 correct :  0  -  0.00026640296\n",
      "15 correct :  0  -  2.9802322e-08\n",
      "16 correct :  0  -  9.23872e-07\n",
      "17 correct :  0  -  2.6226044e-05\n",
      "18 correct :  0  -  2.6226044e-05\n",
      "19 correct :  0  -  0.00015890598\n",
      "20 correct :  0  -  4.261732e-06\n",
      "21 correct :  0  -  2.7894974e-05\n",
      "22 correct :  0  -  0.0\n",
      "23 correct :  0  -  0.0030440986\n",
      "24 correct :  1  -  0.5741571\n",
      "25 correct :  1  -  0.58342695\n",
      "26 correct :  0  -  1.0967255e-05\n",
      "27 correct :  0  -  0.0\n",
      "28 correct :  0  -  0.0\n",
      "29 correct :  0  -  0.001585424\n",
      "30 correct :  0  -  2.3007393e-05\n",
      "31 correct :  0  -  6.556511e-07\n",
      "32 correct :  0  -  5.9604645e-07\n",
      "33 correct :  0  -  0.0006380677\n",
      "34 correct :  1  -  0.99443984\n",
      "35 correct :  0  -  0.00013643503\n",
      "36 correct :  0  -  0.0042077303\n",
      "37 correct :  1  -  0.999869\n",
      "38 correct :  1  -  0.99926835\n",
      "39 correct :  0  -  0.0028497577\n",
      "40 correct :  1  -  0.9999893\n",
      "41 correct :  1  -  0.99895465\n"
     ]
    }
   ],
   "source": [
    "printResults(twolayer_drop_cnn, 0.4)"
   ]
  }
 ],
 "metadata": {
  "kernelspec": {
   "display_name": "Python 3",
   "language": "python",
   "name": "python3"
  },
  "language_info": {
   "codemirror_mode": {
    "name": "ipython",
    "version": 3
   },
   "file_extension": ".py",
   "mimetype": "text/x-python",
   "name": "python",
   "nbconvert_exporter": "python",
   "pygments_lexer": "ipython3",
   "version": "3.7.6"
  }
 },
 "nbformat": 4,
 "nbformat_minor": 4
}
