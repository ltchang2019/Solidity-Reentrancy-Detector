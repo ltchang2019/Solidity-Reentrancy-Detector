{
 "cells": [
  {
   "cell_type": "markdown",
   "metadata": {},
   "source": [
    "## Preprocessing"
   ]
  },
  {
   "cell_type": "code",
   "execution_count": 131,
   "metadata": {},
   "outputs": [],
   "source": [
    "import pygments.lexers\n",
    "import numpy as np\n",
    "from gensim.models import Word2Vec\n",
    "\n",
    "# import sys\n",
    "# sys.path.append('./reentrancy')\n",
    "# import reentrancy"
   ]
  },
  {
   "cell_type": "code",
   "execution_count": 132,
   "metadata": {},
   "outputs": [],
   "source": [
    "# tokenize a given function\n",
    "def tokenize(lexer, fn):\n",
    "    tokens = list(pygments.lex(fn, lexer))\n",
    "    tokenList = []\n",
    "    for token in tokens:\n",
    "        if tokenList and tokenList[-1] == \"function\":\n",
    "            tokenList.append(\"Token.FunctionName\")\n",
    "        elif token[0] == pygments.token.Name.Variable or token[1].startswith(\"_\"):\n",
    "            tokenList.append(\"Token.Variable\")\n",
    "        elif token[1].startswith(\"\\\"\"):\n",
    "            tokenList.append(\"Token.String\")\n",
    "        elif str(token[0]) != 'Token.Text.Whitespace' and str(token[0]) != 'Token.Comment.Single':\n",
    "            tokenList.append(token[1])\n",
    "    return tokenList"
   ]
  },
  {
   "cell_type": "code",
   "execution_count": 133,
   "metadata": {},
   "outputs": [],
   "source": [
    "# return list of token lists given list of functions\n",
    "def getTokenList(functionList):\n",
    "    lexer = pygments.lexers.get_lexer_by_name('Solidity')\n",
    "    globalList = []\n",
    "    for fn in functionList:\n",
    "        globalList.append(tokenize(lexer, fn))\n",
    "    \n",
    "    return globalList"
   ]
  },
  {
   "cell_type": "code",
   "execution_count": 134,
   "metadata": {},
   "outputs": [],
   "source": [
    "# given tokenized functions (or any tokenized dataset of Solidity code), return w2v mapping\n",
    "def get_w2v_mapping(tokenized_fns, token_dim):\n",
    "    w2v = Word2Vec(tokenized_fns, min_count=1, size=token_dim, workers=3, window=3, sg=1)\n",
    "    return w2v"
   ]
  },
  {
   "cell_type": "code",
   "execution_count": 135,
   "metadata": {},
   "outputs": [],
   "source": [
    "# create set of vectorized representations of functions, where each row is a w2v token vector\n",
    "def vectorize_functions(tokenized_fns, w2v_mapping):\n",
    "    embedding_list = []\n",
    "    for i in range(len(tokenized_fns)):\n",
    "        embedding = []\n",
    "        for token in tokenized_fns[i]:\n",
    "            embedding.append(w2v_mapping[token])\n",
    "\n",
    "        embedding_list.append(embedding)\n",
    "    return embedding_list"
   ]
  },
  {
   "cell_type": "code",
   "execution_count": 136,
   "metadata": {},
   "outputs": [],
   "source": [
    "# given list of vectorized functions, return padded version\n",
    "def pad_embeddings(embeddings, max_length, token_dim):\n",
    "    padded_embeddings = []\n",
    "    for embedding in embeddings:\n",
    "        zero_padding_cnt = max_length - len(embedding)\n",
    "        pad = np.zeros((1, token_dim))\n",
    "        for i in range(zero_padding_cnt):\n",
    "            embedding = np.concatenate((embedding, pad), axis=0)\n",
    "        padded_embeddings.append(embedding)\n",
    "    return padded_embeddings"
   ]
  },
  {
   "cell_type": "code",
   "execution_count": 171,
   "metadata": {},
   "outputs": [],
   "source": [
    "def preprocess(function_list, max_length, token_dim):\n",
    "    tokenized_fns = getTokenList(function_list)\n",
    "    print(tokenized_fns)\n",
    "    print(\"INPUT: \", type(tokenized_fns))\n",
    "    print(\"Tokenized Functions: \", type(tokenized_fns))\n",
    "    w2v_mapping = get_w2v_mapping(tokenized_fns, token_dim)\n",
    "    vectorized_fns = vectorize_functions(tokenized_fns, w2v_mapping)\n",
    "    print(\"Vectorized Functions: \", type(vectorized_fns))\n",
    "#     padded_embeddings = pad_embeddings(vectorized_fns, max_length, token_dim)\n",
    "#     print(\"Padded Vectorizations: \", type(padded_embeddings))\n",
    "    return vectorized_fns"
   ]
  },
  {
   "cell_type": "code",
   "execution_count": null,
   "metadata": {},
   "outputs": [],
   "source": []
  },
  {
   "cell_type": "markdown",
   "metadata": {},
   "source": [
    "## Model"
   ]
  },
  {
   "cell_type": "code",
   "execution_count": 172,
   "metadata": {},
   "outputs": [],
   "source": [
    "import warnings\n",
    "warnings.simplefilter('ignore')\n",
    "\n",
    "import tensorflow as tf\n",
    "from tensorflow.keras.layers import Dense, LSTM\n",
    "from tensorflow.keras.models import Model\n",
    "from tensorflow.keras.models import Sequential"
   ]
  },
  {
   "cell_type": "code",
   "execution_count": 173,
   "metadata": {},
   "outputs": [],
   "source": [
    "train_X_list = [\n",
    "    # 0x01f8c4e3fa3edeb29e514cba738d87ce8c091d3f\n",
    "    \"\"\"\n",
    "        function Collect(uint _am)\n",
    "        public\n",
    "        payable\n",
    "        {\n",
    "            if(balances[msg.sender]>=MinSum && balances[msg.sender]>=_am)\n",
    "            {\n",
    "                // <yes> <report> REENTRANCY\n",
    "                if(msg.sender.call.value(_am)())\n",
    "                {\n",
    "                    balances[msg.sender]-=_am;\n",
    "                    Log.AddMessage(msg.sender,_am,\"Collect\");\n",
    "                }\n",
    "            }\n",
    "        }\n",
    "    \"\"\",\n",
    "    # 0x23a91059fdc9579a9fbd0edc5f2ea0bfdb70deb4\n",
    "    \"\"\"\n",
    "        function CashOut(uint _am)\n",
    "        {\n",
    "            if(_am<=balances[msg.sender])\n",
    "            {            \n",
    "                // <yes> <report> REENTRANCY\n",
    "                if(msg.sender.call.value(_am)())\n",
    "                {\n",
    "                    balances[msg.sender]-=_am;\n",
    "                    TransferLog.AddMessage(msg.sender,_am,\"CashOut\");\n",
    "                }\n",
    "            }\n",
    "        }\n",
    "    \"\"\",\n",
    "    # 0x627fa62ccbb1c1b04ffaecd72a53e37fc0e17839\n",
    "    \"\"\"\n",
    "        function WithdrawToHolder(address _addr, uint _wei) \n",
    "        public\n",
    "        onlyOwner\n",
    "        payable\n",
    "        {\n",
    "            if(Holders[_addr]>0)\n",
    "            {\n",
    "                // <yes> <report> REENTRANCY\n",
    "                if(_addr.call.value(_wei)())\n",
    "                {\n",
    "                    Holders[_addr]-=_wei;\n",
    "                }\n",
    "            }\n",
    "        }\n",
    "    \"\"\",\n",
    "    \"\"\"\n",
    "        function payCharity() payable public {\n",
    "          uint256 ethToPay = SafeMath.sub(totalEthCharityCollected, totalEthCharityRecieved);\n",
    "          require(ethToPay > 1);\n",
    "          totalEthCharityRecieved = SafeMath.add(totalEthCharityRecieved, ethToPay);\n",
    "          if(!giveEthCharityAddress.call.value(ethToPay).gas(400000)()) {\n",
    "             totalEthCharityRecieved = SafeMath.sub(totalEthCharityRecieved, ethToPay);\n",
    "          }\n",
    "        }\n",
    "    \"\"\",\n",
    "    \"\"\"\n",
    "        function withdraw()\n",
    "            onlyStronghands()\n",
    "            public\n",
    "        {\n",
    "\n",
    "            address _customerAddress = msg.sender;\n",
    "            uint256 _dividends = myDividends(false);  \n",
    "\n",
    "\n",
    "            payoutsTo_[_customerAddress] +=  (int256) (_dividends * magnitude);\n",
    "\n",
    "\n",
    "            _dividends += referralBalance_[_customerAddress];\n",
    "            referralBalance_[_customerAddress] = 0;\n",
    "\n",
    "\n",
    "            _customerAddress.transfer(_dividends);\n",
    "\n",
    "\n",
    "            onWithdraw(_customerAddress, _dividends);\n",
    "        }\n",
    "    \"\"\"\n",
    "]\n",
    "\n",
    "train_Y = np.array([\n",
    "    [1,0],\n",
    "    [1,0],\n",
    "    [1,0],\n",
    "    [0,1],\n",
    "    [0,1]\n",
    "])"
   ]
  },
  {
   "cell_type": "code",
   "execution_count": 174,
   "metadata": {},
   "outputs": [],
   "source": [
    "test = [\"\"\"\n",
    "    function payCharity() payable public {\n",
    "          uint256 ethToPay = SafeMath.sub(totalEthCharityCollected, totalEthCharityRecieved);\n",
    "          require(ethToPay > 1);\n",
    "          totalEthCharityRecieved = SafeMath.add(totalEthCharityRecieved, ethToPay);\n",
    "          if(!giveEthCharityAddress.call.value(ethToPay).gas(400000)()) {\n",
    "             totalEthCharityRecieved = SafeMath.sub(totalEthCharityRecieved, ethToPay);\n",
    "          }\n",
    "        }\n",
    "\"\"\"]"
   ]
  },
  {
   "cell_type": "code",
   "execution_count": 175,
   "metadata": {},
   "outputs": [
    {
     "name": "stdout",
     "output_type": "stream",
     "text": [
      "[['function', 'Token.FunctionName', 'Token.Variable', '(', 'uint', 'Token.Variable', ')', 'public', 'payable', '{', 'if', '(', 'balances', '[', 'msg.sender', ']', '>', '=', 'MinSum', '&', '&', 'balances', '[', 'msg.sender', ']', '>', '=', 'Token.Variable', ')', '{', 'if', '(', 'msg.sender', '.', 'call', '.', 'value', '(', 'Token.Variable', ')', '(', ')', ')', '{', 'balances', '[', 'msg.sender', ']', '-', '=', 'Token.Variable', ';', 'Log', '.', 'AddMessage', '(', 'msg.sender', ',', 'Token.Variable', ',', 'Token.String', ')', ';', '}', '}', '}'], ['function', 'Token.FunctionName', 'Token.Variable', '(', 'uint', 'Token.Variable', ')', '{', 'if', '(', 'Token.Variable', '<', '=', 'balances', '[', 'msg.sender', ']', ')', '{', 'if', '(', 'msg.sender', '.', 'call', '.', 'value', '(', 'Token.Variable', ')', '(', ')', ')', '{', 'balances', '[', 'msg.sender', ']', '-', '=', 'Token.Variable', ';', 'TransferLog', '.', 'AddMessage', '(', 'msg.sender', ',', 'Token.Variable', ',', 'Token.String', ')', ';', '}', '}', '}'], ['function', 'Token.FunctionName', 'Token.Variable', '(', 'address', 'Token.Variable', ',', 'uint', 'Token.Variable', ')', 'public', 'onlyOwner', 'payable', '{', 'if', '(', 'Holders', '[', 'Token.Variable', ']', '>', '0', ')', '{', 'if', '(', 'Token.Variable', '.', 'call', '.', 'value', '(', 'Token.Variable', ')', '(', ')', ')', '{', 'Holders', '[', 'Token.Variable', ']', '-', '=', 'Token.Variable', ';', '}', '}', '}'], ['function', 'Token.FunctionName', 'Token.Variable', '(', ')', 'payable', 'public', '{', 'uint256', 'Token.Variable', '=', 'SafeMath', '.', 'sub', '(', 'totalEthCharityCollected', ',', 'totalEthCharityRecieved', ')', ';', 'require', '(', 'ethToPay', '>', '1', ')', ';', 'totalEthCharityRecieved', '=', 'SafeMath', '.', 'add', '(', 'totalEthCharityRecieved', ',', 'ethToPay', ')', ';', 'if', '(', '!', 'giveEthCharityAddress', '.', 'call', '.', 'value', '(', 'ethToPay', ')', '.', 'gas', '(', '400000', ')', '(', ')', ')', '{', 'totalEthCharityRecieved', '=', 'SafeMath', '.', 'sub', '(', 'totalEthCharityRecieved', ',', 'ethToPay', ')', ';', '}', '}'], ['function', 'Token.FunctionName', 'Token.Variable', '(', ')', 'onlyStronghands', '(', ')', 'public', '{', 'address', 'Token.Variable', '=', 'msg.sender', ';', 'uint256', 'Token.Variable', '=', 'myDividends', '(', 'false', ')', ';', 'payoutsTo_', '[', 'Token.Variable', ']', '+', '=', '(', 'int256', ')', '(', 'Token.Variable', '*', 'magnitude', ')', ';', 'Token.Variable', '+', '=', 'referralBalance_', '[', 'Token.Variable', ']', ';', 'referralBalance_', '[', 'Token.Variable', ']', '=', '0', ';', 'Token.Variable', '.', 'transfer', '(', 'Token.Variable', ')', ';', 'onWithdraw', '(', 'Token.Variable', ',', 'Token.Variable', ')', ';', '}']]\n",
      "INPUT:  <class 'list'>\n",
      "Tokenized Functions:  <class 'list'>\n",
      "Vectorized Functions:  <class 'list'>\n"
     ]
    },
    {
     "data": {
      "text/plain": [
       "dtype('O')"
      ]
     },
     "execution_count": 175,
     "metadata": {},
     "output_type": "execute_result"
    }
   ],
   "source": [
    "max_length = 100\n",
    "token_dim = 15\n",
    "\n",
    "train_X = preprocess(train_X_list, max_length, token_dim)\n",
    "train_X = np.array(train_X)\n",
    "train_X.dtype"
   ]
  },
  {
   "cell_type": "code",
   "execution_count": 176,
   "metadata": {},
   "outputs": [
    {
     "data": {
      "text/plain": [
       "(5,)"
      ]
     },
     "execution_count": 176,
     "metadata": {},
     "output_type": "execute_result"
    }
   ],
   "source": [
    "train_X.shape"
   ]
  },
  {
   "cell_type": "code",
   "execution_count": 177,
   "metadata": {},
   "outputs": [
    {
     "ename": "AttributeError",
     "evalue": "'list' object has no attribute 'shape'",
     "output_type": "error",
     "traceback": [
      "\u001b[0;31m---------------------------------------------------------------------------\u001b[0m",
      "\u001b[0;31mAttributeError\u001b[0m                            Traceback (most recent call last)",
      "\u001b[0;32m<ipython-input-177-c5e4945e22b6>\u001b[0m in \u001b[0;36m<module>\u001b[0;34m()\u001b[0m\n\u001b[0;32m----> 1\u001b[0;31m \u001b[0mtrain_X\u001b[0m\u001b[0;34m[\u001b[0m\u001b[0;36m0\u001b[0m\u001b[0;34m]\u001b[0m\u001b[0;34m.\u001b[0m\u001b[0mshape\u001b[0m\u001b[0;34m\u001b[0m\u001b[0;34m\u001b[0m\u001b[0m\n\u001b[0m",
      "\u001b[0;31mAttributeError\u001b[0m: 'list' object has no attribute 'shape'"
     ]
    }
   ],
   "source": [
    "train_X[0].shape"
   ]
  },
  {
   "cell_type": "code",
   "execution_count": 89,
   "metadata": {},
   "outputs": [
    {
     "name": "stdout",
     "output_type": "stream",
     "text": [
      "WARNING:tensorflow:From /opt/miniconda3/lib/python3.7/site-packages/tensorflow/python/ops/init_ops.py:1251: calling VarianceScaling.__init__ (from tensorflow.python.ops.init_ops) with dtype is deprecated and will be removed in a future version.\n",
      "Instructions for updating:\n",
      "Call initializer instance with the dtype argument instead of passing it to the constructor\n"
     ]
    }
   ],
   "source": [
    "model = Sequential()\n",
    "model.add(LSTM(128))\n",
    "model.add(Dense(2, activation='softmax'))"
   ]
  },
  {
   "cell_type": "code",
   "execution_count": 90,
   "metadata": {},
   "outputs": [],
   "source": [
    "model.compile(\n",
    "    loss='categorical_crossentropy',\n",
    "    optimizer='adam',\n",
    "    metrics=['accuracy']\n",
    ")"
   ]
  },
  {
   "cell_type": "code",
   "execution_count": 167,
   "metadata": {},
   "outputs": [
    {
     "name": "stdout",
     "output_type": "stream",
     "text": [
      "Training...\n",
      "Epoch 1/50\n",
      "5/5 [==============================] - 0s 85ms/sample - loss: 0.6931 - acc: 0.6000\n",
      "Epoch 2/50\n",
      "5/5 [==============================] - 0s 12ms/sample - loss: 0.6912 - acc: 0.6000\n",
      "Epoch 3/50\n",
      "5/5 [==============================] - 0s 12ms/sample - loss: 0.6891 - acc: 0.6000\n",
      "Epoch 4/50\n",
      "5/5 [==============================] - 0s 12ms/sample - loss: 0.6866 - acc: 0.6000\n",
      "Epoch 5/50\n",
      "5/5 [==============================] - 0s 12ms/sample - loss: 0.6837 - acc: 0.6000\n",
      "Epoch 6/50\n",
      "5/5 [==============================] - 0s 12ms/sample - loss: 0.6804 - acc: 0.6000\n",
      "Epoch 7/50\n",
      "5/5 [==============================] - 0s 14ms/sample - loss: 0.6767 - acc: 0.6000\n",
      "Epoch 8/50\n",
      "5/5 [==============================] - 0s 13ms/sample - loss: 0.6734 - acc: 0.6000\n",
      "Epoch 9/50\n",
      "5/5 [==============================] - 0s 12ms/sample - loss: 0.6753 - acc: 0.6000\n",
      "Epoch 10/50\n",
      "5/5 [==============================] - 0s 11ms/sample - loss: 0.6755 - acc: 0.6000\n",
      "Epoch 11/50\n",
      "5/5 [==============================] - 0s 11ms/sample - loss: 0.6736 - acc: 0.6000\n",
      "Epoch 12/50\n",
      "5/5 [==============================] - 0s 12ms/sample - loss: 0.6728 - acc: 0.6000\n",
      "Epoch 13/50\n",
      "5/5 [==============================] - 0s 12ms/sample - loss: 0.6729 - acc: 0.6000\n",
      "Epoch 14/50\n",
      "5/5 [==============================] - 0s 13ms/sample - loss: 0.6732 - acc: 0.6000\n",
      "Epoch 15/50\n",
      "5/5 [==============================] - 0s 12ms/sample - loss: 0.6735 - acc: 0.6000\n",
      "Epoch 16/50\n",
      "5/5 [==============================] - 0s 13ms/sample - loss: 0.6736 - acc: 0.6000\n",
      "Epoch 17/50\n",
      "5/5 [==============================] - 0s 12ms/sample - loss: 0.6736 - acc: 0.6000\n",
      "Epoch 18/50\n",
      "5/5 [==============================] - 0s 13ms/sample - loss: 0.6735 - acc: 0.6000\n",
      "Epoch 19/50\n",
      "5/5 [==============================] - 0s 13ms/sample - loss: 0.6734 - acc: 0.6000\n",
      "Epoch 20/50\n",
      "5/5 [==============================] - 0s 13ms/sample - loss: 0.6732 - acc: 0.6000\n",
      "Epoch 21/50\n",
      "5/5 [==============================] - 0s 12ms/sample - loss: 0.6730 - acc: 0.6000\n",
      "Epoch 22/50\n",
      "5/5 [==============================] - 0s 12ms/sample - loss: 0.6728 - acc: 0.6000\n",
      "Epoch 23/50\n",
      "5/5 [==============================] - 0s 12ms/sample - loss: 0.6728 - acc: 0.6000\n",
      "Epoch 24/50\n",
      "5/5 [==============================] - 0s 12ms/sample - loss: 0.6728 - acc: 0.6000\n",
      "Epoch 25/50\n",
      "5/5 [==============================] - 0s 12ms/sample - loss: 0.6728 - acc: 0.6000\n",
      "Epoch 26/50\n",
      "5/5 [==============================] - 0s 13ms/sample - loss: 0.6729 - acc: 0.6000\n",
      "Epoch 27/50\n",
      "5/5 [==============================] - 0s 13ms/sample - loss: 0.6729 - acc: 0.6000\n",
      "Epoch 28/50\n",
      "5/5 [==============================] - 0s 12ms/sample - loss: 0.6728 - acc: 0.6000\n",
      "Epoch 29/50\n",
      "5/5 [==============================] - 0s 12ms/sample - loss: 0.6727 - acc: 0.6000\n",
      "Epoch 30/50\n",
      "5/5 [==============================] - 0s 12ms/sample - loss: 0.6725 - acc: 0.6000\n",
      "Epoch 31/50\n",
      "5/5 [==============================] - 0s 12ms/sample - loss: 0.6723 - acc: 0.6000\n",
      "Epoch 32/50\n",
      "5/5 [==============================] - 0s 14ms/sample - loss: 0.6722 - acc: 0.6000\n",
      "Epoch 33/50\n",
      "5/5 [==============================] - 0s 12ms/sample - loss: 0.6719 - acc: 0.6000\n",
      "Epoch 34/50\n",
      "5/5 [==============================] - 0s 12ms/sample - loss: 0.6716 - acc: 0.6000\n",
      "Epoch 35/50\n",
      "5/5 [==============================] - 0s 12ms/sample - loss: 0.6710 - acc: 0.6000\n",
      "Epoch 36/50\n",
      "5/5 [==============================] - 0s 12ms/sample - loss: 0.6699 - acc: 0.6000\n",
      "Epoch 37/50\n",
      "5/5 [==============================] - 0s 12ms/sample - loss: 0.6676 - acc: 0.6000\n",
      "Epoch 38/50\n",
      "5/5 [==============================] - 0s 12ms/sample - loss: 0.6624 - acc: 0.6000\n",
      "Epoch 39/50\n",
      "5/5 [==============================] - 0s 13ms/sample - loss: 0.6475 - acc: 0.6000\n",
      "Epoch 40/50\n",
      "5/5 [==============================] - 0s 13ms/sample - loss: 0.5879 - acc: 0.6000\n",
      "Epoch 41/50\n",
      "5/5 [==============================] - 0s 14ms/sample - loss: 0.6309 - acc: 0.6000\n",
      "Epoch 42/50\n",
      "5/5 [==============================] - 0s 12ms/sample - loss: 1.3971 - acc: 0.6000\n",
      "Epoch 43/50\n",
      "5/5 [==============================] - 0s 13ms/sample - loss: 0.4461 - acc: 1.0000\n",
      "Epoch 44/50\n",
      "5/5 [==============================] - 0s 13ms/sample - loss: 0.5955 - acc: 0.8000\n",
      "Epoch 45/50\n",
      "5/5 [==============================] - 0s 12ms/sample - loss: 0.6172 - acc: 0.8000\n",
      "Epoch 46/50\n",
      "5/5 [==============================] - 0s 12ms/sample - loss: 0.6169 - acc: 1.0000\n",
      "Epoch 47/50\n",
      "5/5 [==============================] - 0s 11ms/sample - loss: 0.6171 - acc: 0.6000\n",
      "Epoch 48/50\n",
      "5/5 [==============================] - 0s 13ms/sample - loss: 0.6193 - acc: 0.6000\n",
      "Epoch 49/50\n",
      "5/5 [==============================] - 0s 13ms/sample - loss: 0.6215 - acc: 0.6000\n",
      "Epoch 50/50\n",
      "5/5 [==============================] - 0s 15ms/sample - loss: 0.6225 - acc: 0.6000\n"
     ]
    },
    {
     "data": {
      "text/plain": [
       "<tensorflow.python.keras.callbacks.History at 0x7fa1a8f25ed0>"
      ]
     },
     "execution_count": 167,
     "metadata": {},
     "output_type": "execute_result"
    }
   ],
   "source": [
    "print(\"Training...\")\n",
    "model.fit(train_X, train_Y, epochs=50)"
   ]
  },
  {
   "cell_type": "code",
   "execution_count": null,
   "metadata": {},
   "outputs": [],
   "source": []
  }
 ],
 "metadata": {
  "kernelspec": {
   "display_name": "Python 3",
   "language": "python",
   "name": "python3"
  },
  "language_info": {
   "codemirror_mode": {
    "name": "ipython",
    "version": 3
   },
   "file_extension": ".py",
   "mimetype": "text/x-python",
   "name": "python",
   "nbconvert_exporter": "python",
   "pygments_lexer": "ipython3",
   "version": "3.7.6"
  }
 },
 "nbformat": 4,
 "nbformat_minor": 4
}
